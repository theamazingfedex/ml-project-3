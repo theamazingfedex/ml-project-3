{
 "cells": [
  {
   "cell_type": "markdown",
   "metadata": {
    "deletable": true,
    "editable": true
   },
   "source": [
    "# TV Script Generation\n",
    "In this project, you'll generate your own [Simpsons](https://en.wikipedia.org/wiki/The_Simpsons) TV scripts using RNNs.  You'll be using part of the [Simpsons dataset](https://www.kaggle.com/wcukierski/the-simpsons-by-the-data) of scripts from 27 seasons.  The Neural Network you'll build will generate a new TV script for a scene at [Moe's Tavern](https://simpsonswiki.com/wiki/Moe's_Tavern).\n",
    "## Get the Data\n",
    "The data is already provided for you.  You'll be using a subset of the original dataset.  It consists of only the scenes in Moe's Tavern.  This doesn't include other versions of the tavern, like \"Moe's Cavern\", \"Flaming Moe's\", \"Uncle Moe's Family Feed-Bag\", etc.."
   ]
  },
  {
   "cell_type": "code",
   "execution_count": 267,
   "metadata": {
    "collapsed": false,
    "deletable": true,
    "editable": true
   },
   "outputs": [],
   "source": [
    "\"\"\"\n",
    "DON'T MODIFY ANYTHING IN THIS CELL\n",
    "\"\"\"\n",
    "import helper\n",
    "\n",
    "data_dir = './data/simpsons/moes_tavern_lines.txt'\n",
    "text = helper.load_data(data_dir)\n",
    "# Ignore notice, since we don't use it for analysing the data\n",
    "text = text[81:]"
   ]
  },
  {
   "cell_type": "markdown",
   "metadata": {
    "deletable": true,
    "editable": true
   },
   "source": [
    "## Explore the Data\n",
    "Play around with `view_sentence_range` to view different parts of the data."
   ]
  },
  {
   "cell_type": "code",
   "execution_count": 268,
   "metadata": {
    "collapsed": false,
    "deletable": true,
    "editable": true
   },
   "outputs": [
    {
     "name": "stdout",
     "output_type": "stream",
     "text": [
      "Dataset Stats\n",
      "Roughly the number of unique words: 11492\n",
      "Number of scenes: 262\n",
      "Average number of sentences in each scene: 15.248091603053435\n",
      "Number of lines: 4257\n",
      "Average number of words in each line: 11.50434578341555\n",
      "\n",
      "The sentences 30 to 40:\n",
      "Lisa_Simpson: He's just a little nervous. (PROUDLY) He has to give a speech tomorrow on \"How To Keep Cool In A Crisis.\"\n",
      "Homer_Simpson: (SOBS) What am I gonna do? What am I gonna do?\n",
      "Barney_Gumble: Hey, I had to give a speech once. I was pretty nervous, so I used a little trick. I pictured everyone in their underwear. The judge, the jury, my lawyer, everybody.\n",
      "Homer_Simpson: Did it work?\n",
      "Barney_Gumble: I'm a free man, ain't I?\n",
      "Barney_Gumble: Whoa!\n",
      "Barney_Gumble: Huh? A pretzel? Wow, looks like I pulled a Homer!\n",
      "\n",
      "\n",
      "Patrons: (MUMBLING, NOT IN UNISON) Happy thoughts... happy thoughts... we love that boy.\n"
     ]
    }
   ],
   "source": [
    "view_sentence_range = (30, 40)\n",
    "\n",
    "\"\"\"\n",
    "DON'T MODIFY ANYTHING IN THIS CELL\n",
    "\"\"\"\n",
    "import numpy as np\n",
    "\n",
    "print('Dataset Stats')\n",
    "print('Roughly the number of unique words: {}'.format(len({word: None for word in text.split()})))\n",
    "scenes = text.split('\\n\\n')\n",
    "print('Number of scenes: {}'.format(len(scenes)))\n",
    "sentence_count_scene = [scene.count('\\n') for scene in scenes]\n",
    "print('Average number of sentences in each scene: {}'.format(np.average(sentence_count_scene)))\n",
    "\n",
    "sentences = [sentence for scene in scenes for sentence in scene.split('\\n')]\n",
    "print('Number of lines: {}'.format(len(sentences)))\n",
    "word_count_sentence = [len(sentence.split()) for sentence in sentences]\n",
    "print('Average number of words in each line: {}'.format(np.average(word_count_sentence)))\n",
    "\n",
    "print()\n",
    "print('The sentences {} to {}:'.format(*view_sentence_range))\n",
    "print('\\n'.join(text.split('\\n')[view_sentence_range[0]:view_sentence_range[1]]))"
   ]
  },
  {
   "cell_type": "markdown",
   "metadata": {
    "deletable": true,
    "editable": true
   },
   "source": [
    "## Implement Preprocessing Functions\n",
    "The first thing to do to any dataset is preprocessing.  Implement the following preprocessing functions below:\n",
    "- Lookup Table\n",
    "- Tokenize Punctuation\n",
    "\n",
    "### Lookup Table\n",
    "To create a word embedding, you first need to transform the words to ids.  In this function, create two dictionaries:\n",
    "- Dictionary to go from the words to an id, we'll call `vocab_to_int`\n",
    "- Dictionary to go from the id to word, we'll call `int_to_vocab`\n",
    "\n",
    "Return these dictionaries in the following tuple `(vocab_to_int, int_to_vocab)`"
   ]
  },
  {
   "cell_type": "code",
   "execution_count": 316,
   "metadata": {
    "collapsed": false,
    "deletable": true,
    "editable": true
   },
   "outputs": [
    {
     "name": "stdout",
     "output_type": "stream",
     "text": [
      "Tests Passed\n"
     ]
    }
   ],
   "source": [
    "import numpy as np\n",
    "import problem_unittests as tests\n",
    "\n",
    "def create_lookup_tables(text):\n",
    "    \"\"\"\n",
    "    Create lookup tables for vocabulary\n",
    "    :param text: The text of tv scripts split into words\n",
    "    :return: A tuple of dicts (vocab_to_int, int_to_vocab)\n",
    "    \"\"\"\n",
    "    # TODO: Implement Function\n",
    "    words = set(text)\n",
    "    vocab_to_int = {w: i for i, w in enumerate(words)}\n",
    "    int_to_vocab = dict(enumerate(words))\n",
    "    return (vocab_to_int, int_to_vocab)\n",
    "\n",
    "\"\"\"\n",
    "DON'T MODIFY ANYTHING IN THIS CELL THAT IS BELOW THIS LINE\n",
    "\"\"\"\n",
    "tests.test_create_lookup_tables(create_lookup_tables)"
   ]
  },
  {
   "cell_type": "markdown",
   "metadata": {
    "deletable": true,
    "editable": true
   },
   "source": [
    "### Tokenize Punctuation\n",
    "We'll be splitting the script into a word array using spaces as delimiters.  However, punctuations like periods and exclamation marks make it hard for the neural network to distinguish between the word \"bye\" and \"bye!\".\n",
    "\n",
    "Implement the function `token_lookup` to return a dict that will be used to tokenize symbols like \"!\" into \"||Exclamation_Mark||\".  Create a dictionary for the following symbols where the symbol is the key and value is the token:\n",
    "- Period ( . )\n",
    "- Comma ( , )\n",
    "- Quotation Mark ( \" )\n",
    "- Semicolon ( ; )\n",
    "- Exclamation mark ( ! )\n",
    "- Question mark ( ? )\n",
    "- Left Parentheses ( ( )\n",
    "- Right Parentheses ( ) )\n",
    "- Dash ( -- )\n",
    "- Return ( \\n )\n",
    "\n",
    "This dictionary will be used to token the symbols and add the delimiter (space) around it.  This separates the symbols as it's own word, making it easier for the neural network to predict on the next word. Make sure you don't use a token that could be confused as a word. Instead of using the token \"dash\", try using something like \"||dash||\"."
   ]
  },
  {
   "cell_type": "code",
   "execution_count": 317,
   "metadata": {
    "collapsed": false,
    "deletable": true,
    "editable": true
   },
   "outputs": [
    {
     "name": "stdout",
     "output_type": "stream",
     "text": [
      "Tests Passed\n"
     ]
    }
   ],
   "source": [
    "def token_lookup():\n",
    "    \"\"\"\n",
    "    Generate a dict to turn punctuation into a token.\n",
    "    :return: Tokenize dictionary where the key is the punctuation and the value is the token\n",
    "    \"\"\"\n",
    "    # TODO: Implement Function\n",
    "    token_dict = { \n",
    "        '!': '||EXCLAIMATIONMARK||',\n",
    "        '?': '||QUESTIONMARK||',\n",
    "        '--': '||DOUBLEDASH||',\n",
    "        '\"': '||DOUBLEQUOTE||',\n",
    "        ',': '||COMMA||',\n",
    "        '.': '||PERIOD||',\n",
    "        ';': '||SEMICOLON||',\n",
    "        '\\n': '||NEWLINE||',\n",
    "        '(': '||OPENPAREN||',\n",
    "        ')': '||CLOSEPAREN||',\n",
    "        #'+': '||PLUS||',\n",
    "        #'&': '||AMPERSAND||',\n",
    "        #':': '||COLON||',\n",
    "        #'\\'': '||APOSTROPHE||',\n",
    "        #'-': '||DASH||',\n",
    "    }\n",
    "    return token_dict\n",
    "\n",
    "\"\"\"\n",
    "DON'T MODIFY ANYTHING IN THIS CELL THAT IS BELOW THIS LINE\n",
    "\"\"\"\n",
    "tests.test_tokenize(token_lookup)"
   ]
  },
  {
   "cell_type": "markdown",
   "metadata": {
    "deletable": true,
    "editable": true
   },
   "source": [
    "## Preprocess all the data and save it\n",
    "Running the code cell below will preprocess all the data and save it to file."
   ]
  },
  {
   "cell_type": "code",
   "execution_count": 320,
   "metadata": {
    "collapsed": false,
    "deletable": true,
    "editable": true
   },
   "outputs": [],
   "source": [
    "\"\"\"\n",
    "DON'T MODIFY ANYTHING IN THIS CELL\n",
    "\"\"\"\n",
    "# Preprocess Training, Validation, and Testing Data\n",
    "helper.preprocess_and_save_data(data_dir, token_lookup, create_lookup_tables)"
   ]
  },
  {
   "cell_type": "markdown",
   "metadata": {
    "deletable": true,
    "editable": true
   },
   "source": [
    "# Check Point\n",
    "This is your first checkpoint. If you ever decide to come back to this notebook or have to restart the notebook, you can start from here. The preprocessed data has been saved to disk."
   ]
  },
  {
   "cell_type": "code",
   "execution_count": 1,
   "metadata": {
    "collapsed": false,
    "deletable": true,
    "editable": true
   },
   "outputs": [],
   "source": [
    "\"\"\"\n",
    "DON'T MODIFY ANYTHING IN THIS CELL\n",
    "\"\"\"\n",
    "import helper\n",
    "import numpy as np\n",
    "import problem_unittests as tests\n",
    "\n",
    "int_text, vocab_to_int, int_to_vocab, token_dict = helper.load_preprocess()"
   ]
  },
  {
   "cell_type": "markdown",
   "metadata": {
    "deletable": true,
    "editable": true
   },
   "source": [
    "## Build the Neural Network\n",
    "You'll build the components necessary to build a RNN by implementing the following functions below:\n",
    "- get_inputs\n",
    "- get_init_cell\n",
    "- get_embed\n",
    "- build_rnn\n",
    "- build_nn\n",
    "- get_batches\n",
    "\n",
    "### Check the Version of TensorFlow and Access to GPU"
   ]
  },
  {
   "cell_type": "code",
   "execution_count": 2,
   "metadata": {
    "collapsed": false,
    "deletable": true,
    "editable": true
   },
   "outputs": [
    {
     "name": "stdout",
     "output_type": "stream",
     "text": [
      "TensorFlow Version: 1.0.0\n",
      "Default GPU Device: /gpu:0\n"
     ]
    }
   ],
   "source": [
    "\"\"\"\n",
    "DON'T MODIFY ANYTHING IN THIS CELL\n",
    "\"\"\"\n",
    "from distutils.version import LooseVersion\n",
    "import warnings\n",
    "import tensorflow as tf\n",
    "\n",
    "# Check TensorFlow Version\n",
    "assert LooseVersion(tf.__version__) >= LooseVersion('1.0'), 'Please use TensorFlow version 1.0 or newer'\n",
    "print('TensorFlow Version: {}'.format(tf.__version__))\n",
    "\n",
    "# Check for a GPU\n",
    "if not tf.test.gpu_device_name():\n",
    "    warnings.warn('No GPU found. Please use a GPU to train your neural network.')\n",
    "else:\n",
    "    print('Default GPU Device: {}'.format(tf.test.gpu_device_name()))"
   ]
  },
  {
   "cell_type": "markdown",
   "metadata": {
    "deletable": true,
    "editable": true
   },
   "source": [
    "### Input\n",
    "Implement the `get_inputs()` function to create TF Placeholders for the Neural Network.  It should create the following placeholders:\n",
    "- Input text placeholder named \"input\" using the [TF Placeholder](https://www.tensorflow.org/api_docs/python/tf/placeholder) `name` parameter.\n",
    "- Targets placeholder\n",
    "- Learning Rate placeholder\n",
    "\n",
    "Return the placeholders in the following the tuple `(Input, Targets, LearingRate)`"
   ]
  },
  {
   "cell_type": "code",
   "execution_count": 3,
   "metadata": {
    "collapsed": false,
    "deletable": true,
    "editable": true
   },
   "outputs": [
    {
     "name": "stdout",
     "output_type": "stream",
     "text": [
      "Tests Passed\n"
     ]
    }
   ],
   "source": [
    "def get_inputs():\n",
    "    \"\"\"\n",
    "    Create TF Placeholders for input, targets, and learning rate.\n",
    "    :return: Tuple (input, targets, learning rate)\n",
    "    \"\"\"\n",
    "    # TODO: Implement Function\n",
    "    Input = tf.placeholder(tf.int32, shape=(None, None), name=\"input\")\n",
    "    Targets = tf.placeholder(tf.int32, shape=(None, None), name=\"targets\")\n",
    "    LearningRate = tf.placeholder(tf.float32, name=\"learning_rate\")\n",
    "    return Input, Targets, LearningRate\n",
    "\n",
    "\n",
    "\"\"\"\n",
    "DON'T MODIFY ANYTHING IN THIS CELL THAT IS BELOW THIS LINE\n",
    "\"\"\"\n",
    "tests.test_get_inputs(get_inputs)"
   ]
  },
  {
   "cell_type": "markdown",
   "metadata": {
    "deletable": true,
    "editable": true
   },
   "source": [
    "### Build RNN Cell and Initialize\n",
    "Stack one or more [`BasicLSTMCells`](https://www.tensorflow.org/api_docs/python/tf/contrib/rnn/BasicLSTMCell) in a [`MultiRNNCell`](https://www.tensorflow.org/api_docs/python/tf/contrib/rnn/MultiRNNCell).\n",
    "- The Rnn size should be set using `rnn_size`\n",
    "- Initalize Cell State using the MultiRNNCell's [`zero_state()`](https://www.tensorflow.org/api_docs/python/tf/contrib/rnn/MultiRNNCell#zero_state) function\n",
    "    - Apply the name \"initial_state\" to the initial state using [`tf.identity()`](https://www.tensorflow.org/api_docs/python/tf/identity)\n",
    "\n",
    "Return the cell and initial state in the following tuple `(Cell, InitialState)`"
   ]
  },
  {
   "cell_type": "code",
   "execution_count": 4,
   "metadata": {
    "collapsed": false,
    "deletable": true,
    "editable": true
   },
   "outputs": [
    {
     "name": "stdout",
     "output_type": "stream",
     "text": [
      "Tests Passed\n"
     ]
    }
   ],
   "source": [
    "lstm_layers = 2\n",
    "keep_prob = .8\n",
    "def get_init_cell(batch_size, rnn_size):\n",
    "    \"\"\"\n",
    "    Create an RNN Cell and initialize it.\n",
    "    :param batch_size: Size of batches\n",
    "    :param rnn_size: Size of RNNs\n",
    "    :return: Tuple (cell, initialize state)\n",
    "    \"\"\"\n",
    "    \n",
    "    lstm = tf.contrib.rnn.BasicLSTMCell(rnn_size, activation=tf.sigmoid)\n",
    "    lstm = tf.contrib.rnn.DropoutWrapper(lstm, output_keep_prob=keep_prob)\n",
    "    rnn = tf.contrib.rnn.MultiRNNCell([lstm] * lstm_layers)\n",
    "    state = tf.identity(rnn.zero_state(batch_size, tf.float32), name='initial_state')\n",
    "    \n",
    "    return (rnn, state)\n",
    "\n",
    "\n",
    "\"\"\"\n",
    "DON'T MODIFY ANYTHING IN THIS CELL THAT IS BELOW THIS LINE\n",
    "\"\"\"\n",
    "tests.test_get_init_cell(get_init_cell)"
   ]
  },
  {
   "cell_type": "markdown",
   "metadata": {
    "deletable": true,
    "editable": true
   },
   "source": [
    "### Word Embedding\n",
    "Apply embedding to `input_data` using TensorFlow.  Return the embedded sequence."
   ]
  },
  {
   "cell_type": "code",
   "execution_count": 5,
   "metadata": {
    "collapsed": false,
    "deletable": true,
    "editable": true
   },
   "outputs": [
    {
     "name": "stdout",
     "output_type": "stream",
     "text": [
      "Tests Passed\n"
     ]
    }
   ],
   "source": [
    "def get_embed(input_data, vocab_size, embed_dim):\n",
    "    \"\"\"\n",
    "    Create embedding for <input_data>.\n",
    "    :param input_data: TF placeholder for text input.\n",
    "    :param vocab_size: Number of words in vocabulary.\n",
    "    :param embed_dim: Number of embedding dimensions\n",
    "    :return: Embedded input.\n",
    "    \"\"\"\n",
    "    # TODO: Implement Function\n",
    "    embedding_shape = (vocab_size, embed_dim)\n",
    "    embedding = tf.Variable(tf.random_uniform(embedding_shape, -1, 1, dtype=tf.float32), name=\"embedding\")\n",
    "    embed = tf.nn.embedding_lookup(embedding, input_data, name=\"embedding_lookup\")\n",
    "    return embed\n",
    "\n",
    "\n",
    "\"\"\"\n",
    "DON'T MODIFY ANYTHING IN THIS CELL THAT IS BELOW THIS LINE\n",
    "\"\"\"\n",
    "tests.test_get_embed(get_embed)"
   ]
  },
  {
   "cell_type": "markdown",
   "metadata": {
    "deletable": true,
    "editable": true
   },
   "source": [
    "### Build RNN\n",
    "You created a RNN Cell in the `get_init_cell()` function.  Time to use the cell to create a RNN.\n",
    "- Build the RNN using the [`tf.nn.dynamic_rnn()`](https://www.tensorflow.org/api_docs/python/tf/nn/dynamic_rnn)\n",
    " - Apply the name \"final_state\" to the final state using [`tf.identity()`](https://www.tensorflow.org/api_docs/python/tf/identity)\n",
    "\n",
    "Return the outputs and final_state state in the following tuple `(Outputs, FinalState)` "
   ]
  },
  {
   "cell_type": "code",
   "execution_count": 6,
   "metadata": {
    "collapsed": false,
    "deletable": true,
    "editable": true
   },
   "outputs": [
    {
     "name": "stdout",
     "output_type": "stream",
     "text": [
      "Tests Passed\n"
     ]
    }
   ],
   "source": [
    "def build_rnn(cell, inputs):\n",
    "    \"\"\"\n",
    "    Create a RNN using a RNN Cell\n",
    "    :param cell: RNN Cell\n",
    "    :param inputs: Input text data\n",
    "    :return: Tuple (Outputs, Final State)\n",
    "    \"\"\"\n",
    "    # TODO: Implement Function\n",
    "    outputs, state = tf.nn.dynamic_rnn(cell, inputs, dtype=tf.float32)\n",
    "    state = tf.identity(state, \"final_state\")\n",
    "    return outputs, state\n",
    "\n",
    "\n",
    "\"\"\"\n",
    "DON'T MODIFY ANYTHING IN THIS CELL THAT IS BELOW THIS LINE\n",
    "\"\"\"\n",
    "tests.test_build_rnn(build_rnn)"
   ]
  },
  {
   "cell_type": "markdown",
   "metadata": {
    "deletable": true,
    "editable": true
   },
   "source": [
    "### Build the Neural Network\n",
    "Apply the functions you implemented above to:\n",
    "- Apply embedding to `input_data` using your `get_embed(input_data, vocab_size, embed_dim)` function.\n",
    "- Build RNN using `cell` and your `build_rnn(cell, inputs)` function.\n",
    "- Apply a fully connected layer with a linear activation and `vocab_size` as the number of outputs.\n",
    "\n",
    "Return the logits and final state in the following tuple (Logits, FinalState) "
   ]
  },
  {
   "cell_type": "code",
   "execution_count": 79,
   "metadata": {
    "collapsed": false,
    "deletable": true,
    "editable": true
   },
   "outputs": [
    {
     "name": "stdout",
     "output_type": "stream",
     "text": [
      "Tests Passed\n"
     ]
    }
   ],
   "source": [
    "def build_nn(cell, rnn_size, input_data, vocab_size):\n",
    "    \"\"\"\n",
    "    Build part of the neural network\n",
    "    :param cell: RNN cell\n",
    "    :param rnn_size: Size of rnns\n",
    "    :param input_data: Input data\n",
    "    :param vocab_size: Vocabulary size\n",
    "    :return: Tuple (Logits, FinalState)\n",
    "    \"\"\"\n",
    "    # TODO: Implement Function\n",
    "    embedded = get_embed(input_data, vocab_size, 256)\n",
    "    logits, finalstate = build_rnn(cell=cell, inputs=embedded)\n",
    "    \n",
    "    weights_init = tf.truncated_normal_initializer(stddev=0.1)\n",
    "    bias_init = tf.zeros_initializer()\n",
    "    logits = tf.contrib.layers.fully_connected(\n",
    "            inputs=logits,\n",
    "            num_outputs=vocab_size, \n",
    "            activation_fn=None,\n",
    "            weights_initializer=weights_init, \n",
    "            biases_initializer=bias_init)\n",
    "    return logits, finalstate\n",
    "\n",
    "\n",
    "\"\"\"\n",
    "DON'T MODIFY ANYTHING IN THIS CELL THAT IS BELOW THIS LINE\n",
    "\"\"\"\n",
    "tests.test_build_nn(build_nn)"
   ]
  },
  {
   "cell_type": "markdown",
   "metadata": {
    "deletable": true,
    "editable": true
   },
   "source": [
    "### Batches\n",
    "Implement `get_batches` to create batches of input and targets using `int_text`.  The batches should be a Numpy array with the shape `(number of batches, 2, batch size, sequence length)`. Each batch contains two elements:\n",
    "- The first element is a single batch of **input** with the shape `[batch size, sequence length]`\n",
    "- The second element is a single batch of **targets** with the shape `[batch size, sequence length]`\n",
    "\n",
    "If you can't fill the last batch with enough data, drop the last batch.\n",
    "\n",
    "For exmple, `get_batches([1, 2, 3, 4, 5, 6, 7, 8, 9, 10, 11, 12, 13, 14, 15], 2, 3)` would return a Numpy array of the following:\n",
    "```\n",
    "[\n",
    "  # First Batch\n",
    "  [\n",
    "    # Batch of Input\n",
    "    [[ 1  2  3], [ 7  8  9]],\n",
    "    # Batch of targets\n",
    "    [[ 2  3  4], [ 8  9 10]]\n",
    "  ],\n",
    " \n",
    "  # Second Batch\n",
    "  [\n",
    "    # Batch of Input\n",
    "    [[ 4  5  6], [10 11 12]],\n",
    "    # Batch of targets\n",
    "    [[ 5  6  7], [11 12 13]]\n",
    "  ]\n",
    "]\n",
    "```"
   ]
  },
  {
   "cell_type": "code",
   "execution_count": 8,
   "metadata": {
    "collapsed": false,
    "deletable": true,
    "editable": true
   },
   "outputs": [
    {
     "name": "stdout",
     "output_type": "stream",
     "text": [
      "Tests Passed\n"
     ]
    }
   ],
   "source": [
    "def get_batches(int_text, batch_size, seq_length):\n",
    "    \"\"\"\n",
    "    Return batches of input and target\n",
    "    :param int_text: Text with the words replaced by their ids\n",
    "    :param batch_size: The size of batch\n",
    "    :param seq_length: The length of sequence\n",
    "    :return: Batches as a Numpy array\n",
    "    \"\"\"\n",
    "    # TODO: Implement Function\n",
    "    \n",
    "    n_batches = len(int_text)//(batch_size*seq_length)\n",
    "    \n",
    "    inputs = np.array(int_text[:n_batches*(batch_size*seq_length)])\n",
    "    targets = np.array(int_text[1:n_batches*(batch_size*seq_length)+1])\n",
    "    #print(\"inttext: \", int_text)\n",
    "    #print(\"inputs: \", inputs.reshape(batch_size, -1))\n",
    "    input_batches = np.split(inputs.reshape(batch_size, -1), n_batches, 1)\n",
    "    target_batches = np.split(targets.reshape(batch_size, -1), n_batches, 1)\n",
    "    \n",
    "    output = np.array(list(zip(input_batches, target_batches)))\n",
    "    #print(\"output:: \\n\", output[:2])\n",
    "    return output\n",
    "\n",
    "\n",
    "\"\"\"\n",
    "DON'T MODIFY ANYTHING IN THIS CELL THAT IS BELOW THIS LINE\n",
    "\"\"\"\n",
    "#get_batches([1, 2, 3, 4, 5, 6, 7, 8, 9, 10, 11, 12, 13, 14, 15], 2, 3) \n",
    "tests.test_get_batches(get_batches)"
   ]
  },
  {
   "cell_type": "markdown",
   "metadata": {
    "deletable": true,
    "editable": true
   },
   "source": [
    "# Neural Network Training\n",
    "### Hyperparameters\n",
    "Tune the following parameters:\n",
    "\n",
    "- Set `num_epochs` to the number of epochs.\n",
    "- Set `batch_size` to the batch size.\n",
    "- Set `rnn_size` to the size of the RNNs.\n",
    "- Set `seq_length` to the length of sequence.\n",
    "- Set `learning_rate` to the learning rate.\n",
    "- Set `show_every_n_batches` to the number of batches the neural network should print progress."
   ]
  },
  {
   "cell_type": "code",
   "execution_count": 259,
   "metadata": {
    "collapsed": true,
    "deletable": true,
    "editable": true
   },
   "outputs": [],
   "source": [
    "# Number of Epochs\n",
    "num_epochs = 50\n",
    "# Batch Size\n",
    "batch_size = 64\n",
    "# RNN Size\n",
    "rnn_size = 500\n",
    "# Sequence Length\n",
    "seq_length = 100\n",
    "# Learning Rate\n",
    "learning_rate = 0.02\n",
    "# Show stats for every n number of batches\n",
    "show_every_n_batches = 2\n",
    "\n",
    "#LSTM_layers\n",
    "lstm_layers = 1\n",
    "keep_prob = 1\n",
    "\n",
    "\"\"\"\n",
    "DON'T MODIFY ANYTHING IN THIS CELL THAT IS BELOW THIS LINE\n",
    "\"\"\"\n",
    "save_dir = './save'"
   ]
  },
  {
   "cell_type": "markdown",
   "metadata": {
    "deletable": true,
    "editable": true
   },
   "source": [
    "### Build the Graph\n",
    "Build the graph using the neural network you implemented."
   ]
  },
  {
   "cell_type": "code",
   "execution_count": 260,
   "metadata": {
    "collapsed": false,
    "deletable": true,
    "editable": true,
    "scrolled": false
   },
   "outputs": [],
   "source": [
    "\"\"\"\n",
    "DON'T MODIFY ANYTHING IN THIS CELL\n",
    "\"\"\"\n",
    "from tensorflow.contrib import seq2seq\n",
    "\n",
    "train_graph = tf.Graph()\n",
    "with train_graph.as_default():\n",
    "    vocab_size = len(int_to_vocab)\n",
    "    input_text, targets, lr = get_inputs()\n",
    "    input_data_shape = tf.shape(input_text)\n",
    "    cell, initial_state = get_init_cell(input_data_shape[0], rnn_size)\n",
    "    logits, final_state = build_nn(cell, rnn_size, input_text, vocab_size)\n",
    "    \n",
    "    # Probabilities for generating words\n",
    "    probs = tf.nn.softmax(logits, name='probs')\n",
    "\n",
    "    # Loss function\n",
    "    cost = seq2seq.sequence_loss(\n",
    "        logits,\n",
    "        targets,\n",
    "        tf.ones([input_data_shape[0], input_data_shape[1]]))\n",
    "    \n",
    "    # Optimizer\n",
    "    optimizer = tf.train.AdamOptimizer(lr)\n",
    "\n",
    "    # Gradient Clipping\n",
    "    gradients = optimizer.compute_gradients(cost)\n",
    "    capped_gradients = [(tf.clip_by_value(grad, -1., 1.), var) for grad, var in gradients]\n",
    "    train_op = optimizer.apply_gradients(capped_gradients)"
   ]
  },
  {
   "cell_type": "markdown",
   "metadata": {
    "deletable": true,
    "editable": true
   },
   "source": [
    "## Train\n",
    "Train the neural network on the preprocessed data.  If you have a hard time getting a good loss, check the [forms](https://discussions.udacity.com/) to see if anyone is having the same problem."
   ]
  },
  {
   "cell_type": "code",
   "execution_count": 261,
   "metadata": {
    "collapsed": false,
    "deletable": true,
    "editable": true,
    "scrolled": true
   },
   "outputs": [
    {
     "name": "stdout",
     "output_type": "stream",
     "text": [
      "Epoch   0 Batch    0/10   train_loss = 9.091\n",
      "Epoch   0 Batch    2/10   train_loss = 8.543\n",
      "Epoch   0 Batch    4/10   train_loss = 7.591\n",
      "Epoch   0 Batch    6/10   train_loss = 7.211\n",
      "Epoch   0 Batch    8/10   train_loss = 6.980\n",
      "Epoch   1 Batch    0/10   train_loss = 6.528\n",
      "Epoch   1 Batch    2/10   train_loss = 6.086\n",
      "Epoch   1 Batch    4/10   train_loss = 5.985\n",
      "Epoch   1 Batch    6/10   train_loss = 5.825\n",
      "Epoch   1 Batch    8/10   train_loss = 5.619\n",
      "Epoch   2 Batch    0/10   train_loss = 5.411\n",
      "Epoch   2 Batch    2/10   train_loss = 5.196\n",
      "Epoch   2 Batch    4/10   train_loss = 4.981\n",
      "Epoch   2 Batch    6/10   train_loss = 5.019\n",
      "Epoch   2 Batch    8/10   train_loss = 4.871\n",
      "Epoch   3 Batch    0/10   train_loss = 4.824\n",
      "Epoch   3 Batch    2/10   train_loss = 4.714\n",
      "Epoch   3 Batch    4/10   train_loss = 4.592\n",
      "Epoch   3 Batch    6/10   train_loss = 4.595\n",
      "Epoch   3 Batch    8/10   train_loss = 4.478\n",
      "Epoch   4 Batch    0/10   train_loss = 4.441\n",
      "Epoch   4 Batch    2/10   train_loss = 4.379\n",
      "Epoch   4 Batch    4/10   train_loss = 4.274\n",
      "Epoch   4 Batch    6/10   train_loss = 4.282\n",
      "Epoch   4 Batch    8/10   train_loss = 4.192\n",
      "Epoch   5 Batch    0/10   train_loss = 4.103\n",
      "Epoch   5 Batch    2/10   train_loss = 4.078\n",
      "Epoch   5 Batch    4/10   train_loss = 3.991\n",
      "Epoch   5 Batch    6/10   train_loss = 4.000\n",
      "Epoch   5 Batch    8/10   train_loss = 3.926\n",
      "Epoch   6 Batch    0/10   train_loss = 3.802\n",
      "Epoch   6 Batch    2/10   train_loss = 3.806\n",
      "Epoch   6 Batch    4/10   train_loss = 3.734\n",
      "Epoch   6 Batch    6/10   train_loss = 3.733\n",
      "Epoch   6 Batch    8/10   train_loss = 3.674\n",
      "Epoch   7 Batch    0/10   train_loss = 3.541\n",
      "Epoch   7 Batch    2/10   train_loss = 3.556\n",
      "Epoch   7 Batch    4/10   train_loss = 3.495\n",
      "Epoch   7 Batch    6/10   train_loss = 3.485\n",
      "Epoch   7 Batch    8/10   train_loss = 3.435\n",
      "Epoch   8 Batch    0/10   train_loss = 3.310\n",
      "Epoch   8 Batch    2/10   train_loss = 3.330\n",
      "Epoch   8 Batch    4/10   train_loss = 3.278\n",
      "Epoch   8 Batch    6/10   train_loss = 3.260\n",
      "Epoch   8 Batch    8/10   train_loss = 3.219\n",
      "Epoch   9 Batch    0/10   train_loss = 3.114\n",
      "Epoch   9 Batch    2/10   train_loss = 3.141\n",
      "Epoch   9 Batch    4/10   train_loss = 3.081\n",
      "Epoch   9 Batch    6/10   train_loss = 3.067\n",
      "Epoch   9 Batch    8/10   train_loss = 3.038\n",
      "Epoch  10 Batch    0/10   train_loss = 2.944\n",
      "Epoch  10 Batch    2/10   train_loss = 2.974\n",
      "Epoch  10 Batch    4/10   train_loss = 2.922\n",
      "Epoch  10 Batch    6/10   train_loss = 2.907\n",
      "Epoch  10 Batch    8/10   train_loss = 2.882\n",
      "Epoch  11 Batch    0/10   train_loss = 2.807\n",
      "Epoch  11 Batch    2/10   train_loss = 2.843\n",
      "Epoch  11 Batch    4/10   train_loss = 2.777\n",
      "Epoch  11 Batch    6/10   train_loss = 2.765\n",
      "Epoch  11 Batch    8/10   train_loss = 2.765\n",
      "Epoch  12 Batch    0/10   train_loss = 2.691\n",
      "Epoch  12 Batch    2/10   train_loss = 2.713\n",
      "Epoch  12 Batch    4/10   train_loss = 2.693\n",
      "Epoch  12 Batch    6/10   train_loss = 2.648\n",
      "Epoch  12 Batch    8/10   train_loss = 2.640\n",
      "Epoch  13 Batch    0/10   train_loss = 2.605\n",
      "Epoch  13 Batch    2/10   train_loss = 2.630\n",
      "Epoch  13 Batch    4/10   train_loss = 2.564\n",
      "Epoch  13 Batch    6/10   train_loss = 2.581\n",
      "Epoch  13 Batch    8/10   train_loss = 2.555\n",
      "Epoch  14 Batch    0/10   train_loss = 2.485\n",
      "Epoch  14 Batch    2/10   train_loss = 2.555\n",
      "Epoch  14 Batch    4/10   train_loss = 2.478\n",
      "Epoch  14 Batch    6/10   train_loss = 2.479\n",
      "Epoch  14 Batch    8/10   train_loss = 2.475\n",
      "Epoch  15 Batch    0/10   train_loss = 2.408\n",
      "Epoch  15 Batch    2/10   train_loss = 2.459\n",
      "Epoch  15 Batch    4/10   train_loss = 2.413\n",
      "Epoch  15 Batch    6/10   train_loss = 2.396\n",
      "Epoch  15 Batch    8/10   train_loss = 2.378\n",
      "Epoch  16 Batch    0/10   train_loss = 2.319\n",
      "Epoch  16 Batch    2/10   train_loss = 2.348\n",
      "Epoch  16 Batch    4/10   train_loss = 2.329\n",
      "Epoch  16 Batch    6/10   train_loss = 2.291\n",
      "Epoch  16 Batch    8/10   train_loss = 2.294\n",
      "Epoch  17 Batch    0/10   train_loss = 2.245\n",
      "Epoch  17 Batch    2/10   train_loss = 2.277\n",
      "Epoch  17 Batch    4/10   train_loss = 2.227\n",
      "Epoch  17 Batch    6/10   train_loss = 2.223\n",
      "Epoch  17 Batch    8/10   train_loss = 2.221\n",
      "Epoch  18 Batch    0/10   train_loss = 2.133\n",
      "Epoch  18 Batch    2/10   train_loss = 2.194\n",
      "Epoch  18 Batch    4/10   train_loss = 2.173\n",
      "Epoch  18 Batch    6/10   train_loss = 2.129\n",
      "Epoch  18 Batch    8/10   train_loss = 2.122\n",
      "Epoch  19 Batch    0/10   train_loss = 2.065\n",
      "Epoch  19 Batch    2/10   train_loss = 2.080\n",
      "Epoch  19 Batch    4/10   train_loss = 2.060\n",
      "Epoch  19 Batch    6/10   train_loss = 2.064\n",
      "Epoch  19 Batch    8/10   train_loss = 2.025\n",
      "Epoch  20 Batch    0/10   train_loss = 1.941\n",
      "Epoch  20 Batch    2/10   train_loss = 2.009\n",
      "Epoch  20 Batch    4/10   train_loss = 1.955\n",
      "Epoch  20 Batch    6/10   train_loss = 1.942\n",
      "Epoch  20 Batch    8/10   train_loss = 1.948\n",
      "Epoch  21 Batch    0/10   train_loss = 1.887\n",
      "Epoch  21 Batch    2/10   train_loss = 1.884\n",
      "Epoch  21 Batch    4/10   train_loss = 1.865\n",
      "Epoch  21 Batch    6/10   train_loss = 1.885\n",
      "Epoch  21 Batch    8/10   train_loss = 1.856\n",
      "Epoch  22 Batch    0/10   train_loss = 1.791\n",
      "Epoch  22 Batch    2/10   train_loss = 1.853\n",
      "Epoch  22 Batch    4/10   train_loss = 1.791\n",
      "Epoch  22 Batch    6/10   train_loss = 1.796\n",
      "Epoch  22 Batch    8/10   train_loss = 1.844\n",
      "Epoch  23 Batch    0/10   train_loss = 1.714\n",
      "Epoch  23 Batch    2/10   train_loss = 1.758\n",
      "Epoch  23 Batch    4/10   train_loss = 1.788\n",
      "Epoch  23 Batch    6/10   train_loss = 1.757\n",
      "Epoch  23 Batch    8/10   train_loss = 1.747\n",
      "Epoch  24 Batch    0/10   train_loss = 1.702\n",
      "Epoch  24 Batch    2/10   train_loss = 1.726\n",
      "Epoch  24 Batch    4/10   train_loss = 1.670\n",
      "Epoch  24 Batch    6/10   train_loss = 1.676\n",
      "Epoch  24 Batch    8/10   train_loss = 1.728\n",
      "Epoch  25 Batch    0/10   train_loss = 1.635\n",
      "Epoch  25 Batch    2/10   train_loss = 1.655\n",
      "Epoch  25 Batch    4/10   train_loss = 1.638\n",
      "Epoch  25 Batch    6/10   train_loss = 1.627\n",
      "Epoch  25 Batch    8/10   train_loss = 1.611\n",
      "Epoch  26 Batch    0/10   train_loss = 1.566\n",
      "Epoch  26 Batch    2/10   train_loss = 1.600\n",
      "Epoch  26 Batch    4/10   train_loss = 1.565\n",
      "Epoch  26 Batch    6/10   train_loss = 1.558\n",
      "Epoch  26 Batch    8/10   train_loss = 1.556\n",
      "Epoch  27 Batch    0/10   train_loss = 1.486\n",
      "Epoch  27 Batch    2/10   train_loss = 1.528\n",
      "Epoch  27 Batch    4/10   train_loss = 1.496\n",
      "Epoch  27 Batch    6/10   train_loss = 1.454\n",
      "Epoch  27 Batch    8/10   train_loss = 1.499\n",
      "Epoch  28 Batch    0/10   train_loss = 1.391\n",
      "Epoch  28 Batch    2/10   train_loss = 1.412\n",
      "Epoch  28 Batch    4/10   train_loss = 1.438\n",
      "Epoch  28 Batch    6/10   train_loss = 1.384\n",
      "Epoch  28 Batch    8/10   train_loss = 1.386\n",
      "Epoch  29 Batch    0/10   train_loss = 1.346\n",
      "Epoch  29 Batch    2/10   train_loss = 1.361\n",
      "Epoch  29 Batch    4/10   train_loss = 1.330\n",
      "Epoch  29 Batch    6/10   train_loss = 1.335\n",
      "Epoch  29 Batch    8/10   train_loss = 1.340\n",
      "Epoch  30 Batch    0/10   train_loss = 1.240\n",
      "Epoch  30 Batch    2/10   train_loss = 1.291\n",
      "Epoch  30 Batch    4/10   train_loss = 1.289\n",
      "Epoch  30 Batch    6/10   train_loss = 1.229\n",
      "Epoch  30 Batch    8/10   train_loss = 1.265\n",
      "Epoch  31 Batch    0/10   train_loss = 1.198\n",
      "Epoch  31 Batch    2/10   train_loss = 1.213\n",
      "Epoch  31 Batch    4/10   train_loss = 1.208\n",
      "Epoch  31 Batch    6/10   train_loss = 1.191\n",
      "Epoch  31 Batch    8/10   train_loss = 1.189\n",
      "Epoch  32 Batch    0/10   train_loss = 1.126\n",
      "Epoch  32 Batch    2/10   train_loss = 1.171\n",
      "Epoch  32 Batch    4/10   train_loss = 1.155\n",
      "Epoch  32 Batch    6/10   train_loss = 1.119\n",
      "Epoch  32 Batch    8/10   train_loss = 1.141\n",
      "Epoch  33 Batch    0/10   train_loss = 1.077\n",
      "Epoch  33 Batch    2/10   train_loss = 1.092\n",
      "Epoch  33 Batch    4/10   train_loss = 1.103\n",
      "Epoch  33 Batch    6/10   train_loss = 1.074\n",
      "Epoch  33 Batch    8/10   train_loss = 1.071\n",
      "Epoch  34 Batch    0/10   train_loss = 1.006\n",
      "Epoch  34 Batch    2/10   train_loss = 1.051\n",
      "Epoch  34 Batch    4/10   train_loss = 1.039\n",
      "Epoch  34 Batch    6/10   train_loss = 1.002\n",
      "Epoch  34 Batch    8/10   train_loss = 1.032\n",
      "Epoch  35 Batch    0/10   train_loss = 0.962\n",
      "Epoch  35 Batch    2/10   train_loss = 0.981\n",
      "Epoch  35 Batch    4/10   train_loss = 0.992\n",
      "Epoch  35 Batch    6/10   train_loss = 0.979\n",
      "Epoch  35 Batch    8/10   train_loss = 0.972\n",
      "Epoch  36 Batch    0/10   train_loss = 0.906\n",
      "Epoch  36 Batch    2/10   train_loss = 0.956\n",
      "Epoch  36 Batch    4/10   train_loss = 0.949\n",
      "Epoch  36 Batch    6/10   train_loss = 0.916\n",
      "Epoch  36 Batch    8/10   train_loss = 0.945\n",
      "Epoch  37 Batch    0/10   train_loss = 0.876\n",
      "Epoch  37 Batch    2/10   train_loss = 0.897\n",
      "Epoch  37 Batch    4/10   train_loss = 0.918\n",
      "Epoch  37 Batch    6/10   train_loss = 0.885\n",
      "Epoch  37 Batch    8/10   train_loss = 0.897\n",
      "Epoch  38 Batch    0/10   train_loss = 0.825\n",
      "Epoch  38 Batch    2/10   train_loss = 0.875\n",
      "Epoch  38 Batch    4/10   train_loss = 0.878\n",
      "Epoch  38 Batch    6/10   train_loss = 0.817\n",
      "Epoch  38 Batch    8/10   train_loss = 0.872\n",
      "Epoch  39 Batch    0/10   train_loss = 0.805\n",
      "Epoch  39 Batch    2/10   train_loss = 0.818\n",
      "Epoch  39 Batch    4/10   train_loss = 0.835\n",
      "Epoch  39 Batch    6/10   train_loss = 0.809\n",
      "Epoch  39 Batch    8/10   train_loss = 0.805\n",
      "Epoch  40 Batch    0/10   train_loss = 0.773\n",
      "Epoch  40 Batch    2/10   train_loss = 0.804\n",
      "Epoch  40 Batch    4/10   train_loss = 0.794\n",
      "Epoch  40 Batch    6/10   train_loss = 0.767\n",
      "Epoch  40 Batch    8/10   train_loss = 0.793\n",
      "Epoch  41 Batch    0/10   train_loss = 0.722\n",
      "Epoch  41 Batch    2/10   train_loss = 0.770\n",
      "Epoch  41 Batch    4/10   train_loss = 0.774\n",
      "Epoch  41 Batch    6/10   train_loss = 0.740\n",
      "Epoch  41 Batch    8/10   train_loss = 0.761\n",
      "Epoch  42 Batch    0/10   train_loss = 0.702\n",
      "Epoch  42 Batch    2/10   train_loss = 0.754\n",
      "Epoch  42 Batch    4/10   train_loss = 0.766\n",
      "Epoch  42 Batch    6/10   train_loss = 0.705\n",
      "Epoch  42 Batch    8/10   train_loss = 0.751\n",
      "Epoch  43 Batch    0/10   train_loss = 0.693\n",
      "Epoch  43 Batch    2/10   train_loss = 0.735\n",
      "Epoch  43 Batch    4/10   train_loss = 0.763\n",
      "Epoch  43 Batch    6/10   train_loss = 0.714\n",
      "Epoch  43 Batch    8/10   train_loss = 0.725\n",
      "Epoch  44 Batch    0/10   train_loss = 0.703\n",
      "Epoch  44 Batch    2/10   train_loss = 0.720\n",
      "Epoch  44 Batch    4/10   train_loss = 0.738\n",
      "Epoch  44 Batch    6/10   train_loss = 0.719\n",
      "Epoch  44 Batch    8/10   train_loss = 0.729\n",
      "Epoch  45 Batch    0/10   train_loss = 0.661\n",
      "Epoch  45 Batch    2/10   train_loss = 0.702\n",
      "Epoch  45 Batch    4/10   train_loss = 0.702\n",
      "Epoch  45 Batch    6/10   train_loss = 0.686\n",
      "Epoch  45 Batch    8/10   train_loss = 0.708\n",
      "Epoch  46 Batch    0/10   train_loss = 0.639\n",
      "Epoch  46 Batch    2/10   train_loss = 0.657\n",
      "Epoch  46 Batch    4/10   train_loss = 0.684\n",
      "Epoch  46 Batch    6/10   train_loss = 0.653\n",
      "Epoch  46 Batch    8/10   train_loss = 0.663\n",
      "Epoch  47 Batch    0/10   train_loss = 0.613\n",
      "Epoch  47 Batch    2/10   train_loss = 0.631\n",
      "Epoch  47 Batch    4/10   train_loss = 0.639\n",
      "Epoch  47 Batch    6/10   train_loss = 0.587\n",
      "Epoch  47 Batch    8/10   train_loss = 0.621\n",
      "Epoch  48 Batch    0/10   train_loss = 0.570\n",
      "Epoch  48 Batch    2/10   train_loss = 0.573\n",
      "Epoch  48 Batch    4/10   train_loss = 0.597\n",
      "Epoch  48 Batch    6/10   train_loss = 0.561\n",
      "Epoch  48 Batch    8/10   train_loss = 0.553\n",
      "Epoch  49 Batch    0/10   train_loss = 0.517\n",
      "Epoch  49 Batch    2/10   train_loss = 0.548\n",
      "Epoch  49 Batch    4/10   train_loss = 0.547\n",
      "Epoch  49 Batch    6/10   train_loss = 0.505\n",
      "Epoch  49 Batch    8/10   train_loss = 0.527\n",
      "Model Trained and Saved\n"
     ]
    }
   ],
   "source": [
    "\"\"\"\n",
    "DON'T MODIFY ANYTHING IN THIS CELL\n",
    "\"\"\"\n",
    "batches = get_batches(int_text, batch_size, seq_length)\n",
    "total_loss = []\n",
    "with tf.Session(graph=train_graph) as sess:\n",
    "    sess.run(tf.global_variables_initializer())\n",
    "    for epoch_i in range(num_epochs):\n",
    "        state = sess.run(initial_state, {input_text: batches[0][0]})\n",
    "        epoch_collection = []\n",
    "        for batch_i, (x, y) in enumerate(batches):\n",
    "            feed = {\n",
    "                input_text: x,\n",
    "                targets: y,\n",
    "                initial_state: state,\n",
    "                lr: learning_rate}\n",
    "            train_loss, state, _ = sess.run([cost, final_state, train_op], feed)\n",
    "            \n",
    "            # Show every <show_every_n_batches> batches\n",
    "            if (epoch_i * len(batches) + batch_i) % show_every_n_batches == 0:\n",
    "                epoch_collection.append(train_loss)\n",
    "                print('Epoch {:>3} Batch {:>4}/{}   train_loss = {:.3f}'.format(\n",
    "                    epoch_i,\n",
    "                    batch_i,\n",
    "                    len(batches),\n",
    "                    train_loss))\n",
    "        if epoch_collection != []:\n",
    "            total_loss += epoch_collection\n",
    "\n",
    "    # Save Model\n",
    "    saver = tf.train.Saver()\n",
    "    saver.save(sess, save_dir)\n",
    "    print('Model Trained and Saved')"
   ]
  },
  {
   "cell_type": "code",
   "execution_count": 262,
   "metadata": {
    "collapsed": false,
    "deletable": true,
    "editable": true
   },
   "outputs": [
    {
     "data": {
      "image/png": "[encoded data removed]",
      "text/plain": [
       "<matplotlib.figure.Figure at 0x7f7e23d81710>"
      ]
     },
     "metadata": {},
     "output_type": "display_data"
    }
   ],
   "source": [
    "from matplotlib import pyplot as plt\n",
    "\n",
    "x, y = [], []\n",
    "for i, loss in enumerate(total_loss):\n",
    "    x += [i]\n",
    "    y += [loss]\n",
    "\n",
    "plt.plot(x,y)\n",
    "plt.show()"
   ]
  },
  {
   "cell_type": "markdown",
   "metadata": {
    "deletable": true,
    "editable": true
   },
   "source": [
    "## Save Parameters\n",
    "Save `seq_length` and `save_dir` for generating a new TV script."
   ]
  },
  {
   "cell_type": "code",
   "execution_count": 263,
   "metadata": {
    "collapsed": false,
    "deletable": true,
    "editable": true
   },
   "outputs": [],
   "source": [
    "\"\"\"\n",
    "DON'T MODIFY ANYTHING IN THIS CELL\n",
    "\"\"\"\n",
    "# Save parameters for checkpoint\n",
    "helper.save_params((seq_length, save_dir))"
   ]
  },
  {
   "cell_type": "markdown",
   "metadata": {
    "deletable": true,
    "editable": true
   },
   "source": [
    "# Checkpoint"
   ]
  },
  {
   "cell_type": "code",
   "execution_count": 264,
   "metadata": {
    "collapsed": false,
    "deletable": true,
    "editable": true
   },
   "outputs": [],
   "source": [
    "\"\"\"\n",
    "DON'T MODIFY ANYTHING IN THIS CELL\n",
    "\"\"\"\n",
    "import tensorflow as tf\n",
    "import numpy as np\n",
    "import helper\n",
    "import problem_unittests as tests\n",
    "\n",
    "_, vocab_to_int, int_to_vocab, token_dict = helper.load_preprocess()\n",
    "seq_length, load_dir = helper.load_params()"
   ]
  },
  {
   "cell_type": "markdown",
   "metadata": {
    "deletable": true,
    "editable": true
   },
   "source": [
    "## Implement Generate Functions\n",
    "### Get Tensors\n",
    "Get tensors from `loaded_graph` using the function [`get_tensor_by_name()`](https://www.tensorflow.org/api_docs/python/tf/Graph#get_tensor_by_name).  Get the tensors using the following names:\n",
    "- \"input:0\"\n",
    "- \"initial_state:0\"\n",
    "- \"final_state:0\"\n",
    "- \"probs:0\"\n",
    "\n",
    "Return the tensors in the following tuple `(InputTensor, InitialStateTensor, FinalStateTensor, ProbsTensor)` "
   ]
  },
  {
   "cell_type": "code",
   "execution_count": 265,
   "metadata": {
    "collapsed": false,
    "deletable": true,
    "editable": true
   },
   "outputs": [
    {
     "name": "stdout",
     "output_type": "stream",
     "text": [
      "Tests Passed\n"
     ]
    }
   ],
   "source": [
    "def get_tensors(loaded_graph):\n",
    "    \"\"\"\n",
    "    Get input, initial state, final state, and probabilities tensor from <loaded_graph>\n",
    "    :param loaded_graph: TensorFlow graph loaded from file\n",
    "    :return: Tuple (InputTensor, InitialStateTensor, FinalStateTensor, ProbsTensor)\n",
    "    \"\"\"\n",
    "    # TODO: Implement Function\n",
    "    inputs = loaded_graph.get_tensor_by_name(\"input:0\")\n",
    "    initial_state = loaded_graph.get_tensor_by_name(\"initial_state:0\")\n",
    "    final_state = loaded_graph.get_tensor_by_name(\"final_state:0\")\n",
    "    probs = loaded_graph.get_tensor_by_name(\"probs:0\")\n",
    "    \n",
    "    return inputs, initial_state, final_state, probs\n",
    "\n",
    "\"\"\"\n",
    "DON'T MODIFY ANYTHING IN THIS CELL THAT IS BELOW THIS LINE\n",
    "\"\"\"\n",
    "tests.test_get_tensors(get_tensors)"
   ]
  },
  {
   "cell_type": "markdown",
   "metadata": {
    "deletable": true,
    "editable": true
   },
   "source": [
    "### Choose Word\n",
    "Implement the `pick_word()` function to select the next word using `probabilities`."
   ]
  },
  {
   "cell_type": "code",
   "execution_count": 277,
   "metadata": {
    "collapsed": false,
    "deletable": true,
    "editable": true
   },
   "outputs": [
    {
     "name": "stdout",
     "output_type": "stream",
     "text": [
      "Tests Passed\n"
     ]
    }
   ],
   "source": [
    "def pick_word(probabilities, int_to_vocab):\n",
    "    \"\"\"\n",
    "    Pick the next word in the generated text\n",
    "    :param probabilities: Probabilites of the next word\n",
    "    :param int_to_vocab: Dictionary of word ids as the keys and words as the values\n",
    "    :return: String of the predicted word\n",
    "    \"\"\"\n",
    "    # TODO: Implement Function\n",
    "    max_i = 0\n",
    "    for i in range(len(probabilities)):\n",
    "        if probabilities[i] > probabilities[max_i]:\n",
    "            max_i = i\n",
    "    first_choice = int_to_vocab[max_i]\n",
    "    \n",
    "    second_i = 0\n",
    "    for i in range(len(probabilities)):\n",
    "        if probabilities[i] > probabilities[second_i] and probabilities[i] < probabilities[max_i]:\n",
    "            second_i = i\n",
    "    second_choice = int_to_vocab[second_i]\n",
    "    \n",
    "    chance = random.random()\n",
    "    \n",
    "    final_choice = first_choice if chance > .4 else second_choice\n",
    "    #print(probabilities)\n",
    "    #print(chance, \": \", first_choice, \"[\", probabilities[max_i] ,\"] || \", second_choice, \"[\", probabilities[second_i] ,\"] : \" ,final_choice)\n",
    "    return final_choice\n",
    "\n",
    "\n",
    "\"\"\"\n",
    "DON'T MODIFY ANYTHING IN THIS CELL THAT IS BELOW THIS LINE\n",
    "\"\"\"\n",
    "tests.test_pick_word(pick_word)"
   ]
  },
  {
   "cell_type": "markdown",
   "metadata": {
    "deletable": true,
    "editable": true
   },
   "source": [
    "## Generate TV Script\n",
    "This will generate the TV script for you.  Set `gen_length` to the length of TV script you want to generate."
   ]
  },
  {
   "cell_type": "code",
   "execution_count": 278,
   "metadata": {
    "collapsed": false,
    "deletable": true,
    "editable": true,
    "scrolled": false
   },
   "outputs": [
    {
     "name": "stdout",
     "output_type": "stream",
     "text": [
      "barney_gumble:(fierce).. it is homer simpson. and now, back to the wall(to homer and the fluoroscope and the single-mindedness of it...\n",
      "moe_szyslak:(sings) i've been working on the railroad / all i know. you gotta do it yourself...\n",
      "homer_simpson:(gasp) respect...\n",
      "moe_szyslak:(sings) i've never felt so.. a bachelorette party. if you didn't close, i'd never going to be watching with his wife(raises!) it's my allowance, mother, and i'll burn it the exit.\n",
      "homer_simpson: shut your two dozen can you take me for a couple months and go. and then what happened? omit a road loss and the fluoroscope of...(looking at sign) lord palmerston.\n",
      "\n",
      "\n",
      "moe_szyslak:(amazed) did you say one hundred and thirty million dollars!(sobs)\n",
      "larry: okay. it's like my dad?\n",
      "moe_szyslak: oh.. homer and a little bit here.\n",
      "lisa_simpson: thanks for the beer?(whispers\n",
      "lenny_leonard: okay, but i'm not going to have a sweet woman.(laughs, pats pants rolled up.\n",
      "carl_carlson:(whistles) oh, god, i wish i could do it yourself, moe?\n",
      "homer_simpson:(a lot to mull) yeah. i can't afford to find the fireworks smugglers and get them to say something incriminating(to moe. he must feel so helpless to the money, homer.\n",
      "barney_gumble:(raising glasses of ice.\n",
      "\n",
      "\n",
      "homer_simpson:(moans) how could you\n"
     ]
    }
   ],
   "source": [
    "gen_length = 300\n",
    "# homer_simpson, moe_szyslak, or Barney_Gumble\n",
    "#prime_word = 'moe_szyslak'\n",
    "#prime_word = 'homer_simpson'\n",
    "prime_word = 'barney_gumble'\n",
    "\n",
    "\"\"\"\n",
    "DON'T MODIFY ANYTHING IN THIS CELL THAT IS BELOW THIS LINE\n",
    "\"\"\"\n",
    "loaded_graph = tf.Graph()\n",
    "with tf.Session(graph=loaded_graph) as sess:\n",
    "    # Load saved model\n",
    "    loader = tf.train.import_meta_graph(load_dir + '.meta')\n",
    "    loader.restore(sess, load_dir)\n",
    "\n",
    "    # Get Tensors from loaded model\n",
    "    input_text, initial_state, final_state, probs = get_tensors(loaded_graph)\n",
    "\n",
    "    # Sentences generation setup\n",
    "    gen_sentences = [prime_word + ':']\n",
    "    prev_state = sess.run(initial_state, {input_text: np.array([[1]])})\n",
    "\n",
    "    # Generate sentences\n",
    "    for n in range(gen_length):\n",
    "        # Dynamic Input\n",
    "        dyn_input = [[vocab_to_int[word] for word in gen_sentences[-seq_length:]]]\n",
    "        dyn_seq_length = len(dyn_input[0])\n",
    "\n",
    "        # Get Prediction\n",
    "        probabilities, prev_state = sess.run(\n",
    "            [probs, final_state],\n",
    "            {input_text: dyn_input, initial_state: prev_state})\n",
    "        \n",
    "        pred_word = pick_word(probabilities[dyn_seq_length-1], int_to_vocab)\n",
    "\n",
    "        gen_sentences.append(pred_word)\n",
    "    \n",
    "    # Remove tokens\n",
    "    tv_script = ' '.join(gen_sentences)\n",
    "    for key, token in token_dict.items():\n",
    "        ending = ' ' if key in ['\\n', '(', '\"'] else ''\n",
    "        tv_script = tv_script.replace(' ' + token.lower(), key)\n",
    "    tv_script = tv_script.replace('\\n ', '\\n')\n",
    "    tv_script = tv_script.replace('( ', '(')\n",
    "        \n",
    "    print(tv_script)"
   ]
  },
  {
   "cell_type": "markdown",
   "metadata": {
    "deletable": true,
    "editable": true
   },
   "source": [
    "# The TV Script is Nonsensical\n",
    "It's ok if the TV script doesn't make any sense.  We trained on less than a megabyte of text.  In order to get good results, you'll have to use a smaller vocabulary or get more data.  Luckly there's more data!  As we mentioned in the begging of this project, this is a subset of [another dataset](https://www.kaggle.com/wcukierski/the-simpsons-by-the-data).  We didn't have you train on all the data, because that would take too long.  However, you are free to train your neural network on all the data.  After you complete the project, of course.\n",
    "# Submitting This Project\n",
    "When submitting this project, make sure to run all the cells before saving the notebook. Save the notebook file as \"dlnd_tv_script_generation.ipynb\" and save it as a HTML file under \"File\" -> \"Download as\". Include the \"helper.py\" and \"problem_unittests.py\" files in your submission."
   ]
  },
  {
   "cell_type": "code",
   "execution_count": null,
   "metadata": {
    "collapsed": true
   },
   "outputs": [],
   "source": []
  }
 ],
 "metadata": {
  "anaconda-cloud": {},
  "kernelspec": {
   "display_name": "Python 3",
   "language": "python",
   "name": "python3"
  },
  "language_info": {
   "codemirror_mode": {
    "name": "ipython",
    "version": 3
   },
   "file_extension": ".py",
   "mimetype": "text/x-python",
   "name": "python",
   "nbconvert_exporter": "python",
   "pygments_lexer": "ipython3",
   "version": "3.5.3"
  },
  "widgets": {
   "state": {},
   "version": "1.1.2"
  }
 },
 "nbformat": 4,
 "nbformat_minor": 0
}
